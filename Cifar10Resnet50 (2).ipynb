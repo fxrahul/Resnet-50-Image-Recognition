{
  "nbformat": 4,
  "nbformat_minor": 0,
  "metadata": {
    "colab": {
      "name": "Cifar10Resnet50.ipynb",
      "provenance": [],
      "collapsed_sections": []
    },
    "kernelspec": {
      "name": "python3",
      "display_name": "Python 3"
    },
    "accelerator": "GPU"
  },
  "cells": [
    {
      "cell_type": "code",
      "metadata": {
        "id": "nBadgAsf22lm",
        "colab_type": "code",
        "colab": {
          "base_uri": "https://localhost:8080/",
          "height": 50
        },
        "outputId": "733240a4-e901-48e1-f757-fbd571492506"
      },
      "source": [
        "%tensorflow_version 1.x\n",
        "from tensorflow.keras.applications.resnet50 import ResNet50, preprocess_input\n",
        "import tensorflow.keras as keras\n",
        "from tensorflow.keras import models\n",
        "from tensorflow.keras import layers\n",
        "from tensorflow.keras import optimizers\n",
        "import tensorflow as tf\n",
        "from keras.utils import np_utils\n",
        "from keras.models import load_model\n",
        "from keras.datasets import cifar10\n",
        "from keras.preprocessing import image\n",
        "import numpy as np\n",
        "import matplotlib.pyplot as plt\n",
        "from PIL import Image\n",
        "import cv2"
      ],
      "execution_count": 1,
      "outputs": [
        {
          "output_type": "stream",
          "text": [
            "TensorFlow 1.x selected.\n"
          ],
          "name": "stdout"
        },
        {
          "output_type": "stream",
          "text": [
            "Using TensorFlow backend.\n"
          ],
          "name": "stderr"
        }
      ]
    },
    {
      "cell_type": "code",
      "metadata": {
        "id": "-x_uU9ZGwBwt",
        "colab_type": "code",
        "colab": {}
      },
      "source": [
        ""
      ],
      "execution_count": 0,
      "outputs": []
    },
    {
      "cell_type": "markdown",
      "metadata": {
        "id": "ENGuoxMe8rxe",
        "colab_type": "text"
      },
      "source": [
        "**Importing Libraries**"
      ]
    },
    {
      "cell_type": "code",
      "metadata": {
        "id": "kLj1DNJl3G5K",
        "colab_type": "code",
        "colab": {
          "base_uri": "https://localhost:8080/",
          "height": 121
        },
        "outputId": "3925f3b4-6249-4b2e-9f5d-37154131cb1c"
      },
      "source": [
        "resnetModel = ResNet50(weights='imagenet', include_top=False, input_shape=(200, 200, 3))"
      ],
      "execution_count": 2,
      "outputs": [
        {
          "output_type": "stream",
          "text": [
            "WARNING:tensorflow:From /tensorflow-1.15.2/python3.6/tensorflow_core/python/ops/resource_variable_ops.py:1630: calling BaseResourceVariable.__init__ (from tensorflow.python.ops.resource_variable_ops) with constraint is deprecated and will be removed in a future version.\n",
            "Instructions for updating:\n",
            "If using Keras pass *_constraint arguments to layers.\n",
            "Downloading data from https://github.com/keras-team/keras-applications/releases/download/resnet/resnet50_weights_tf_dim_ordering_tf_kernels_notop.h5\n",
            "94773248/94765736 [==============================] - 1s 0us/step\n"
          ],
          "name": "stdout"
        }
      ]
    },
    {
      "cell_type": "markdown",
      "metadata": {
        "id": "Nba8DWHG8wL5",
        "colab_type": "text"
      },
      "source": [
        "**Importing resnet 50 model** "
      ]
    },
    {
      "cell_type": "code",
      "metadata": {
        "id": "qQW-vEh43NZE",
        "colab_type": "code",
        "colab": {
          "base_uri": "https://localhost:8080/",
          "height": 50
        },
        "outputId": "427afbd1-2854-4a98-9362-fc0b8b18ffc6"
      },
      "source": [
        "(trainInput , trainLabel) , (testInput, testLabel) = cifar10.load_data()\n",
        "\n",
        "trainInput = trainInput / 255.0\n",
        "testInput = testInput / 255.0\n",
        "\n"
      ],
      "execution_count": 3,
      "outputs": [
        {
          "output_type": "stream",
          "text": [
            "Downloading data from https://www.cs.toronto.edu/~kriz/cifar-10-python.tar.gz\n",
            "170500096/170498071 [==============================] - 2s 0us/step\n"
          ],
          "name": "stdout"
        }
      ]
    },
    {
      "cell_type": "markdown",
      "metadata": {
        "id": "FFHDxFUF84wo",
        "colab_type": "text"
      },
      "source": [
        "**Getting cifar 10 data**"
      ]
    },
    {
      "cell_type": "code",
      "metadata": {
        "id": "mu4Y8U7B4Fl6",
        "colab_type": "code",
        "colab": {}
      },
      "source": [
        "trainLabel = np_utils.to_categorical(trainLabel, 10)\n",
        "testLabel = np_utils.to_categorical(testLabel, 10)"
      ],
      "execution_count": 0,
      "outputs": []
    },
    {
      "cell_type": "markdown",
      "metadata": {
        "id": "FRHtzIa78-kq",
        "colab_type": "text"
      },
      "source": [
        "**converting label to one hot encoding**"
      ]
    },
    {
      "cell_type": "code",
      "metadata": {
        "id": "ijLnhXVIBw7w",
        "colab_type": "code",
        "colab": {}
      },
      "source": [
        "model = models.Sequential()\n",
        "\n",
        "#encoder\n",
        "model.add(layers.Conv2D(16, (3, 3), activation='relu', padding='same'))\n",
        "model.add(layers.MaxPooling2D((2, 2), padding='same') )\n",
        "# model.add(layers.Conv2D(8, (3, 3), activation='relu', padding='same') )\n",
        "# model.add(layers.MaxPooling2D((2, 2), padding='same') )\n",
        "# model.add(layers.Conv2D(8, (3, 3), activation='relu', padding='same') )\n",
        "# model.add(layers.MaxPooling2D((2, 2), padding='same') )\n",
        "\n",
        "#decoder\n",
        "# model.add(layers.Conv2D(8, (3, 3), activation='relu', padding='same') )\n",
        "# model.add(layers.UpSampling2D((2, 2)) )\n",
        "# model.add (layers.Conv2D(8, (3, 3), activation='relu', padding='same') )\n",
        "# model.add(layers.UpSampling2D((2, 2)) )\n",
        "model.add(layers.Conv2D(16, (3, 3), activation='relu', padding='same'))\n",
        "model.add(layers.UpSampling2D((2, 2)) )\n",
        "\n",
        "model.add(layers.Conv2D(1, (3, 3), activation='sigmoid', padding='same') )\n",
        "\n",
        "model.compile(optimizer='adadelta', loss='binary_crossentropy')\n",
        "\n",
        "\n",
        "\n"
      ],
      "execution_count": 0,
      "outputs": []
    },
    {
      "cell_type": "markdown",
      "metadata": {
        "id": "G0j2gdQY9NcO",
        "colab_type": "text"
      },
      "source": [
        "**Feature extraction model**"
      ]
    },
    {
      "cell_type": "code",
      "metadata": {
        "id": "bXJ_I3bSDkK8",
        "colab_type": "code",
        "outputId": "4d5ebe57-d753-4de7-ea56-8902e0bd34b5",
        "colab": {
          "base_uri": "https://localhost:8080/",
          "height": 1000
        }
      },
      "source": [
        "model.fit(trainInput, trainInput,\n",
        "                epochs=50,\n",
        "                batch_size=128,\n",
        "                shuffle=True,\n",
        "                validation_data=(testInput, testInput))"
      ],
      "execution_count": 6,
      "outputs": [
        {
          "output_type": "stream",
          "text": [
            "WARNING:tensorflow:From /tensorflow-1.15.2/python3.6/tensorflow_core/python/ops/nn_impl.py:183: where (from tensorflow.python.ops.array_ops) is deprecated and will be removed in a future version.\n",
            "Instructions for updating:\n",
            "Use tf.where in 2.0, which has the same broadcast rule as np.where\n",
            "Train on 50000 samples, validate on 10000 samples\n",
            "Epoch 1/50\n",
            "50000/50000 [==============================] - 12s 236us/sample - loss: 0.6887 - val_loss: 0.6873\n",
            "Epoch 2/50\n",
            "50000/50000 [==============================] - 5s 99us/sample - loss: 0.6873 - val_loss: 0.6861\n",
            "Epoch 3/50\n",
            "50000/50000 [==============================] - 5s 99us/sample - loss: 0.6861 - val_loss: 0.6851\n",
            "Epoch 4/50\n",
            "50000/50000 [==============================] - 5s 99us/sample - loss: 0.6852 - val_loss: 0.6842\n",
            "Epoch 5/50\n",
            "50000/50000 [==============================] - 5s 97us/sample - loss: 0.6843 - val_loss: 0.6833\n",
            "Epoch 6/50\n",
            "50000/50000 [==============================] - 5s 96us/sample - loss: 0.6834 - val_loss: 0.6825\n",
            "Epoch 7/50\n",
            "50000/50000 [==============================] - 5s 96us/sample - loss: 0.6825 - val_loss: 0.6816\n",
            "Epoch 8/50\n",
            "50000/50000 [==============================] - 5s 95us/sample - loss: 0.6816 - val_loss: 0.6807\n",
            "Epoch 9/50\n",
            "50000/50000 [==============================] - 5s 96us/sample - loss: 0.6807 - val_loss: 0.6798\n",
            "Epoch 10/50\n",
            "50000/50000 [==============================] - 5s 96us/sample - loss: 0.6798 - val_loss: 0.6788\n",
            "Epoch 11/50\n",
            "50000/50000 [==============================] - 5s 96us/sample - loss: 0.6787 - val_loss: 0.6778\n",
            "Epoch 12/50\n",
            "50000/50000 [==============================] - 5s 96us/sample - loss: 0.6777 - val_loss: 0.6767\n",
            "Epoch 13/50\n",
            "50000/50000 [==============================] - 5s 96us/sample - loss: 0.6766 - val_loss: 0.6756\n",
            "Epoch 14/50\n",
            "50000/50000 [==============================] - 5s 97us/sample - loss: 0.6754 - val_loss: 0.6744\n",
            "Epoch 15/50\n",
            "50000/50000 [==============================] - 5s 96us/sample - loss: 0.6741 - val_loss: 0.6731\n",
            "Epoch 16/50\n",
            "50000/50000 [==============================] - 5s 97us/sample - loss: 0.6728 - val_loss: 0.6717\n",
            "Epoch 17/50\n",
            "50000/50000 [==============================] - 5s 97us/sample - loss: 0.6713 - val_loss: 0.6702\n",
            "Epoch 18/50\n",
            "50000/50000 [==============================] - 5s 97us/sample - loss: 0.6698 - val_loss: 0.6686\n",
            "Epoch 19/50\n",
            "50000/50000 [==============================] - 5s 96us/sample - loss: 0.6681 - val_loss: 0.6669\n",
            "Epoch 20/50\n",
            "50000/50000 [==============================] - 5s 96us/sample - loss: 0.6663 - val_loss: 0.6650\n",
            "Epoch 21/50\n",
            "50000/50000 [==============================] - 5s 96us/sample - loss: 0.6642 - val_loss: 0.6628\n",
            "Epoch 22/50\n",
            "50000/50000 [==============================] - 5s 97us/sample - loss: 0.6619 - val_loss: 0.6604\n",
            "Epoch 23/50\n",
            "50000/50000 [==============================] - 5s 96us/sample - loss: 0.6595 - val_loss: 0.6581\n",
            "Epoch 24/50\n",
            "50000/50000 [==============================] - 5s 96us/sample - loss: 0.6572 - val_loss: 0.6558\n",
            "Epoch 25/50\n",
            "50000/50000 [==============================] - 5s 97us/sample - loss: 0.6548 - val_loss: 0.6534\n",
            "Epoch 26/50\n",
            "50000/50000 [==============================] - 5s 96us/sample - loss: 0.6523 - val_loss: 0.6508\n",
            "Epoch 27/50\n",
            "50000/50000 [==============================] - 5s 96us/sample - loss: 0.6498 - val_loss: 0.6482\n",
            "Epoch 28/50\n",
            "50000/50000 [==============================] - 5s 96us/sample - loss: 0.6471 - val_loss: 0.6455\n",
            "Epoch 29/50\n",
            "50000/50000 [==============================] - 5s 97us/sample - loss: 0.6442 - val_loss: 0.6426\n",
            "Epoch 30/50\n",
            "50000/50000 [==============================] - 5s 97us/sample - loss: 0.6413 - val_loss: 0.6397\n",
            "Epoch 31/50\n",
            "50000/50000 [==============================] - 5s 98us/sample - loss: 0.6383 - val_loss: 0.6367\n",
            "Epoch 32/50\n",
            "50000/50000 [==============================] - 5s 98us/sample - loss: 0.6352 - val_loss: 0.6336\n",
            "Epoch 33/50\n",
            "50000/50000 [==============================] - 5s 97us/sample - loss: 0.6322 - val_loss: 0.6306\n",
            "Epoch 34/50\n",
            "50000/50000 [==============================] - 5s 97us/sample - loss: 0.6291 - val_loss: 0.6275\n",
            "Epoch 35/50\n",
            "50000/50000 [==============================] - 5s 96us/sample - loss: 0.6260 - val_loss: 0.6245\n",
            "Epoch 36/50\n",
            "50000/50000 [==============================] - 5s 96us/sample - loss: 0.6229 - val_loss: 0.6214\n",
            "Epoch 37/50\n",
            "50000/50000 [==============================] - 5s 96us/sample - loss: 0.6199 - val_loss: 0.6185\n",
            "Epoch 38/50\n",
            "50000/50000 [==============================] - 5s 96us/sample - loss: 0.6169 - val_loss: 0.6156\n",
            "Epoch 39/50\n",
            "50000/50000 [==============================] - 5s 97us/sample - loss: 0.6141 - val_loss: 0.6128\n",
            "Epoch 40/50\n",
            "50000/50000 [==============================] - 5s 95us/sample - loss: 0.6114 - val_loss: 0.6102\n",
            "Epoch 41/50\n",
            "50000/50000 [==============================] - 5s 97us/sample - loss: 0.6088 - val_loss: 0.6078\n",
            "Epoch 42/50\n",
            "50000/50000 [==============================] - 5s 97us/sample - loss: 0.6064 - val_loss: 0.6055\n",
            "Epoch 43/50\n",
            "50000/50000 [==============================] - 5s 97us/sample - loss: 0.6041 - val_loss: 0.6033\n",
            "Epoch 44/50\n",
            "50000/50000 [==============================] - 5s 97us/sample - loss: 0.6020 - val_loss: 0.6013\n",
            "Epoch 45/50\n",
            "50000/50000 [==============================] - 5s 99us/sample - loss: 0.6001 - val_loss: 0.5995\n",
            "Epoch 46/50\n",
            "50000/50000 [==============================] - 5s 97us/sample - loss: 0.5983 - val_loss: 0.5978\n",
            "Epoch 47/50\n",
            "50000/50000 [==============================] - 5s 97us/sample - loss: 0.5967 - val_loss: 0.5962\n",
            "Epoch 48/50\n",
            "50000/50000 [==============================] - 5s 96us/sample - loss: 0.5952 - val_loss: 0.5948\n",
            "Epoch 49/50\n",
            "50000/50000 [==============================] - 5s 98us/sample - loss: 0.5938 - val_loss: 0.5936\n",
            "Epoch 50/50\n",
            "50000/50000 [==============================] - 5s 97us/sample - loss: 0.5926 - val_loss: 0.5924\n"
          ],
          "name": "stdout"
        },
        {
          "output_type": "execute_result",
          "data": {
            "text/plain": [
              "<tensorflow.python.keras.callbacks.History at 0x7fded58a10b8>"
            ]
          },
          "metadata": {
            "tags": []
          },
          "execution_count": 6
        }
      ]
    },
    {
      "cell_type": "markdown",
      "metadata": {
        "id": "wDSi7p8_9oEA",
        "colab_type": "text"
      },
      "source": [
        "**Training autoencoder**"
      ]
    },
    {
      "cell_type": "code",
      "metadata": {
        "id": "gNWaAQY-4rTN",
        "colab_type": "code",
        "colab": {}
      },
      "source": [
        "model = models.Sequential()\n",
        "\n",
        "#upsampling to increase image....\n",
        "model.add(layers.UpSampling2D((2,2)))\n",
        "model.add(layers.UpSampling2D((2,2)))\n",
        "model.add(layers.UpSampling2D((2,2)))\n",
        "\n",
        "model.add(resnetModel)\n",
        "\n",
        "model.add(layers.Flatten())\n",
        "model.add(layers.BatchNormalization())\n",
        "model.add(layers.Dense(128, activation='relu'))\n",
        "model.add(layers.Dropout(0.5))\n",
        "model.add(layers.BatchNormalization())\n",
        "model.add(layers.Dense(64, activation='relu'))\n",
        "model.add(layers.Dropout(0.5))\n",
        "model.add(layers.BatchNormalization())\n",
        "model.add(layers.Dense(10, activation='softmax'))\n",
        "\n",
        "model.compile(optimizer=optimizers.RMSprop(lr=2e-5), loss='categorical_crossentropy', metrics=['acc'])\n",
        "\n",
        "\n",
        "\n"
      ],
      "execution_count": 0,
      "outputs": []
    },
    {
      "cell_type": "markdown",
      "metadata": {
        "id": "ItmHILgq9syL",
        "colab_type": "text"
      },
      "source": [
        "**Preparing model with the help of resnet 50 pretrained model with imagenet**"
      ]
    },
    {
      "cell_type": "code",
      "metadata": {
        "id": "UFAjLM2Q7GF3",
        "colab_type": "code",
        "colab": {}
      },
      "source": [
        "from keras.preprocessing.image import ImageDataGenerator\n",
        "datagen = ImageDataGenerator(horizontal_flip = True)"
      ],
      "execution_count": 0,
      "outputs": []
    },
    {
      "cell_type": "markdown",
      "metadata": {
        "id": "9liJXcjs93nA",
        "colab_type": "text"
      },
      "source": [
        "**data augmentation**"
      ]
    },
    {
      "cell_type": "code",
      "metadata": {
        "id": "PwjdQrWy7Ebu",
        "colab_type": "code",
        "outputId": "8701f4aa-4468-4f7d-842a-fbced0a3a1b4",
        "colab": {
          "base_uri": "https://localhost:8080/",
          "height": 373
        }
      },
      "source": [
        "import time\n",
        "start = time.time()\n",
        "history = model.fit_generator(datagen.flow(trainInput, trainLabel,batch_size = 20), epochs=5, validation_data=(testInput, testLabel), steps_per_epoch = len(trainInput) // 20)\n",
        "end = time.time()"
      ],
      "execution_count": 9,
      "outputs": [
        {
          "output_type": "stream",
          "text": [
            "Epoch 1/5\n",
            "2499/2500 [============================>.] - ETA: 0s - loss: 0.2459 - acc: 0.9021Epoch 1/5\n",
            "10000/2500 [========================================================================================================================] - 59s 6ms/sample - loss: 0.1103 - acc: 0.9592\n",
            "2500/2500 [==============================] - 1198s 479ms/step - loss: 0.2459 - acc: 0.9021 - val_loss: 0.1154 - val_acc: 0.9592\n",
            "Epoch 2/5\n",
            "2499/2500 [============================>.] - ETA: 0s - loss: 0.1576 - acc: 0.9390Epoch 1/5\n",
            "10000/2500 [========================================================================================================================] - 59s 6ms/sample - loss: 0.0736 - acc: 0.9764\n",
            "2500/2500 [==============================] - 1185s 474ms/step - loss: 0.1576 - acc: 0.9390 - val_loss: 0.0726 - val_acc: 0.9764\n",
            "Epoch 3/5\n",
            "2499/2500 [============================>.] - ETA: 0s - loss: 0.1207 - acc: 0.9564Epoch 1/5\n",
            "10000/2500 [========================================================================================================================] - 58s 6ms/sample - loss: 0.0568 - acc: 0.9816\n",
            "2500/2500 [==============================] - 1188s 475ms/step - loss: 0.1207 - acc: 0.9564 - val_loss: 0.0565 - val_acc: 0.9816\n",
            "Epoch 4/5\n",
            "2499/2500 [============================>.] - ETA: 0s - loss: 0.0982 - acc: 0.9666Epoch 1/5\n",
            "10000/2500 [========================================================================================================================] - 58s 6ms/sample - loss: 0.0408 - acc: 0.9862\n",
            "2500/2500 [==============================] - 1184s 473ms/step - loss: 0.0982 - acc: 0.9666 - val_loss: 0.0431 - val_acc: 0.9862\n",
            "Epoch 5/5\n",
            "2499/2500 [============================>.] - ETA: 0s - loss: 0.0817 - acc: 0.9740Epoch 1/5\n",
            "10000/2500 [========================================================================================================================] - 58s 6ms/sample - loss: 0.0351 - acc: 0.9891\n",
            "2500/2500 [==============================] - 1183s 473ms/step - loss: 0.0817 - acc: 0.9740 - val_loss: 0.0339 - val_acc: 0.9891\n"
          ],
          "name": "stdout"
        }
      ]
    },
    {
      "cell_type": "code",
      "metadata": {
        "id": "I0hVnuZ-Suug",
        "colab_type": "code",
        "colab": {
          "base_uri": "https://localhost:8080/",
          "height": 34
        },
        "outputId": "96ccbf56-2d9c-4751-efa5-acca8ec0e487"
      },
      "source": [
        "print(\"Total Training time: \",(end-start))"
      ],
      "execution_count": 10,
      "outputs": [
        {
          "output_type": "stream",
          "text": [
            "Total Training time:  5939.042693853378\n"
          ],
          "name": "stdout"
        }
      ]
    },
    {
      "cell_type": "markdown",
      "metadata": {
        "id": "spcFMXpMTajS",
        "colab_type": "text"
      },
      "source": [
        "**Training time**"
      ]
    },
    {
      "cell_type": "code",
      "metadata": {
        "id": "JvgX-gIHTZKo",
        "colab_type": "code",
        "colab": {
          "base_uri": "https://localhost:8080/",
          "height": 312
        },
        "outputId": "0de2f794-5114-447b-dfec-4c88c3b99d84"
      },
      "source": [
        "import keras\n",
        "from matplotlib import pyplot as plt\n",
        "\n",
        "plt.plot(history.history['acc'])\n",
        "plt.plot(history.history['val_acc'])\n",
        "plt.title('model accuracy')\n",
        "plt.ylabel('accuracy')\n",
        "plt.xlabel('epoch')\n",
        "plt.legend(['train', 'val'], loc='upper left')\n",
        "plt.show()\n",
        "plt.savefig(\"performance_cifar10.png\")"
      ],
      "execution_count": 11,
      "outputs": [
        {
          "output_type": "display_data",
          "data": {
            "image/png": "[encoded data removed]",
            "text/plain": [
              "<Figure size 432x288 with 1 Axes>"
            ]
          },
          "metadata": {
            "tags": []
          }
        },
        {
          "output_type": "display_data",
          "data": {
            "text/plain": [
              "<Figure size 432x288 with 0 Axes>"
            ]
          },
          "metadata": {
            "tags": []
          }
        }
      ]
    },
    {
      "cell_type": "markdown",
      "metadata": {
        "id": "e0SQtQ1ITg6R",
        "colab_type": "text"
      },
      "source": [
        "**Analyzing performance**"
      ]
    },
    {
      "cell_type": "markdown",
      "metadata": {
        "id": "86PYSOrs-Cwm",
        "colab_type": "text"
      },
      "source": [
        "**training model**"
      ]
    },
    {
      "cell_type": "code",
      "metadata": {
        "id": "Ii_TpjxH5zHo",
        "colab_type": "code",
        "outputId": "50aa2208-db6f-4cec-801f-33676e21e37e",
        "colab": {
          "base_uri": "https://localhost:8080/",
          "height": 50
        }
      },
      "source": [
        "score = model.evaluate(testInput, testLabel)\n",
        "print('The model achieved a accuracy of %.2f%%.' % (score[1]*100))"
      ],
      "execution_count": 12,
      "outputs": [
        {
          "output_type": "stream",
          "text": [
            "10000/10000 [==============================] - 57s 6ms/sample - loss: 0.0339 - acc: 0.9891\n",
            "The model achieved a accuracy of 98.91%.\n"
          ],
          "name": "stdout"
        }
      ]
    },
    {
      "cell_type": "markdown",
      "metadata": {
        "id": "dEfjAg-aUbpk",
        "colab_type": "text"
      },
      "source": [
        "**evaluating model performance**"
      ]
    }
  ]
}
